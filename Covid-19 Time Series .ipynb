{
 "cells": [
  {
   "cell_type": "code",
   "execution_count": 3,
   "id": "51361e3c",
   "metadata": {},
   "outputs": [],
   "source": [
    "import pandas as pd\n",
    "import numpy as np\n",
    "import seaborn as sns\n",
    "import matplotlib.pyplot\n",
    "import warnings\n",
    "warnings.filterwarnings('ignore')"
   ]
  },
  {
   "cell_type": "code",
   "execution_count": 4,
   "id": "dd5e85d6",
   "metadata": {
    "scrolled": false
   },
   "outputs": [
    {
     "name": "stdout",
     "output_type": "stream",
     "text": [
      "Collecting fbprophet\n",
      "  Downloading fbprophet-0.7.1.tar.gz (64 kB)\n",
      "Requirement already satisfied: Cython>=0.22 in c:\\users\\fajar\\anaconda3\\lib\\site-packages (from fbprophet) (0.29.24)\n",
      "Collecting cmdstanpy==0.9.5\n",
      "  Downloading cmdstanpy-0.9.5-py3-none-any.whl (37 kB)\n",
      "Requirement already satisfied: pystan>=2.14 in c:\\users\\fajar\\anaconda3\\lib\\site-packages (from fbprophet) (2.19.1.1)\n",
      "Requirement already satisfied: numpy>=1.15.4 in c:\\users\\fajar\\anaconda3\\lib\\site-packages (from fbprophet) (1.20.3)\n",
      "Requirement already satisfied: pandas>=1.0.4 in c:\\users\\fajar\\anaconda3\\lib\\site-packages (from fbprophet) (1.3.4)\n",
      "Requirement already satisfied: matplotlib>=2.0.0 in c:\\users\\fajar\\anaconda3\\lib\\site-packages (from fbprophet) (3.4.3)\n",
      "Collecting LunarCalendar>=0.0.9\n",
      "  Downloading LunarCalendar-0.0.9-py2.py3-none-any.whl (18 kB)\n",
      "Collecting convertdate>=2.1.2\n"
     ]
    },
    {
     "name": "stderr",
     "output_type": "stream",
     "text": [
      "  ERROR: Command errored out with exit status 1:\n",
      "   command: 'C:\\Users\\fajar\\anaconda3\\python.exe' -u -c 'import io, os, sys, setuptools, tokenize; sys.argv[0] = '\"'\"'C:\\\\Users\\\\fajar\\\\AppData\\\\Local\\\\Temp\\\\pip-install-0vjzia9b\\\\fbprophet_18ca436f9e2a481faa0af3d6822080a6\\\\setup.py'\"'\"'; __file__='\"'\"'C:\\\\Users\\\\fajar\\\\AppData\\\\Local\\\\Temp\\\\pip-install-0vjzia9b\\\\fbprophet_18ca436f9e2a481faa0af3d6822080a6\\\\setup.py'\"'\"';f = getattr(tokenize, '\"'\"'open'\"'\"', open)(__file__) if os.path.exists(__file__) else io.StringIO('\"'\"'from setuptools import setup; setup()'\"'\"');code = f.read().replace('\"'\"'\\r\\n'\"'\"', '\"'\"'\\n'\"'\"');f.close();exec(compile(code, __file__, '\"'\"'exec'\"'\"'))' bdist_wheel -d 'C:\\Users\\fajar\\AppData\\Local\\Temp\\pip-wheel-b3pk9kik'\n",
      "       cwd: C:\\Users\\fajar\\AppData\\Local\\Temp\\pip-install-0vjzia9b\\fbprophet_18ca436f9e2a481faa0af3d6822080a6\\\n",
      "  Complete output (44 lines):\n",
      "  running bdist_wheel\n",
      "  running build\n",
      "  running build_py\n",
      "  creating build\n",
      "  creating build\\lib\n",
      "  creating build\\lib\\fbprophet\n",
      "  creating build\\lib\\fbprophet\\stan_model\n",
      "  Traceback (most recent call last):\n",
      "    File \"<string>\", line 1, in <module>\n",
      "    File \"C:\\Users\\fajar\\AppData\\Local\\Temp\\pip-install-0vjzia9b\\fbprophet_18ca436f9e2a481faa0af3d6822080a6\\setup.py\", line 122, in <module>\n",
      "      setup(\n",
      "    File \"C:\\Users\\fajar\\anaconda3\\lib\\site-packages\\setuptools\\__init__.py\", line 153, in setup\n",
      "      return distutils.core.setup(**attrs)\n",
      "    File \"C:\\Users\\fajar\\anaconda3\\lib\\distutils\\core.py\", line 148, in setup\n",
      "      dist.run_commands()\n",
      "    File \"C:\\Users\\fajar\\anaconda3\\lib\\distutils\\dist.py\", line 966, in run_commands\n",
      "      self.run_command(cmd)\n",
      "    File \"C:\\Users\\fajar\\anaconda3\\lib\\distutils\\dist.py\", line 985, in run_command\n",
      "      cmd_obj.run()\n",
      "    File \"C:\\Users\\fajar\\anaconda3\\lib\\site-packages\\wheel\\bdist_wheel.py\", line 299, in run\n",
      "      self.run_command('build')\n",
      "    File \"C:\\Users\\fajar\\anaconda3\\lib\\distutils\\cmd.py\", line 313, in run_command\n",
      "      self.distribution.run_command(command)\n",
      "    File \"C:\\Users\\fajar\\anaconda3\\lib\\distutils\\dist.py\", line 985, in run_command\n",
      "      cmd_obj.run()\n",
      "    File \"C:\\Users\\fajar\\anaconda3\\lib\\distutils\\command\\build.py\", line 135, in run\n",
      "      self.run_command(cmd_name)\n",
      "    File \"C:\\Users\\fajar\\anaconda3\\lib\\distutils\\cmd.py\", line 313, in run_command\n",
      "      self.distribution.run_command(command)\n",
      "    File \"C:\\Users\\fajar\\anaconda3\\lib\\distutils\\dist.py\", line 985, in run_command\n",
      "      cmd_obj.run()\n",
      "    File \"C:\\Users\\fajar\\AppData\\Local\\Temp\\pip-install-0vjzia9b\\fbprophet_18ca436f9e2a481faa0af3d6822080a6\\setup.py\", line 48, in run\n",
      "      build_models(target_dir)\n",
      "    File \"C:\\Users\\fajar\\AppData\\Local\\Temp\\pip-install-0vjzia9b\\fbprophet_18ca436f9e2a481faa0af3d6822080a6\\setup.py\", line 36, in build_models\n",
      "      from fbprophet.models import StanBackendEnum\n",
      "    File \"C:\\Users\\fajar\\AppData\\Local\\Temp\\pip-install-0vjzia9b\\fbprophet_18ca436f9e2a481faa0af3d6822080a6\\fbprophet\\__init__.py\", line 8, in <module>\n",
      "      from fbprophet.forecaster import Prophet\n",
      "    File \"C:\\Users\\fajar\\AppData\\Local\\Temp\\pip-install-0vjzia9b\\fbprophet_18ca436f9e2a481faa0af3d6822080a6\\fbprophet\\forecaster.py\", line 17, in <module>\n",
      "      from fbprophet.make_holidays import get_holiday_names, make_holidays_df\n",
      "    File \"C:\\Users\\fajar\\AppData\\Local\\Temp\\pip-install-0vjzia9b\\fbprophet_18ca436f9e2a481faa0af3d6822080a6\\fbprophet\\make_holidays.py\", line 14, in <module>\n",
      "      import fbprophet.hdays as hdays_part2\n",
      "    File \"C:\\Users\\fajar\\AppData\\Local\\Temp\\pip-install-0vjzia9b\\fbprophet_18ca436f9e2a481faa0af3d6822080a6\\fbprophet\\hdays.py\", line 13, in <module>\n",
      "      from convertdate.islamic import from_gregorian, to_gregorian\n",
      "  ModuleNotFoundError: No module named 'convertdate'\n",
      "  ----------------------------------------\n",
      "  ERROR: Failed building wheel for fbprophet\n",
      "    ERROR: Command errored out with exit status 1:\n",
      "     command: 'C:\\Users\\fajar\\anaconda3\\python.exe' -u -c 'import io, os, sys, setuptools, tokenize; sys.argv[0] = '\"'\"'C:\\\\Users\\\\fajar\\\\AppData\\\\Local\\\\Temp\\\\pip-install-0vjzia9b\\\\fbprophet_18ca436f9e2a481faa0af3d6822080a6\\\\setup.py'\"'\"'; __file__='\"'\"'C:\\\\Users\\\\fajar\\\\AppData\\\\Local\\\\Temp\\\\pip-install-0vjzia9b\\\\fbprophet_18ca436f9e2a481faa0af3d6822080a6\\\\setup.py'\"'\"';f = getattr(tokenize, '\"'\"'open'\"'\"', open)(__file__) if os.path.exists(__file__) else io.StringIO('\"'\"'from setuptools import setup; setup()'\"'\"');code = f.read().replace('\"'\"'\\r\\n'\"'\"', '\"'\"'\\n'\"'\"');f.close();exec(compile(code, __file__, '\"'\"'exec'\"'\"'))' install --record 'C:\\Users\\fajar\\AppData\\Local\\Temp\\pip-record-53_39bpa\\install-record.txt' --single-version-externally-managed --compile --install-headers 'C:\\Users\\fajar\\anaconda3\\Include\\fbprophet'\n",
      "         cwd: C:\\Users\\fajar\\AppData\\Local\\Temp\\pip-install-0vjzia9b\\fbprophet_18ca436f9e2a481faa0af3d6822080a6\\\n",
      "    Complete output (10 lines):\n",
      "    running install\n",
      "    running build\n",
      "    running build_py\n",
      "    creating build\n",
      "    creating build\\lib\n",
      "    creating build\\lib\\fbprophet\n",
      "    creating build\\lib\\fbprophet\\stan_model\n",
      "    INFO:pystan:COMPILING THE C++ CODE FOR MODEL anon_model_f5236004a3fd5b8429270d00efcc0cf9 NOW.\n",
      "    WARNING:pystan:MSVC compiler is not supported\n",
      "    error: Microsoft Visual C++ 14.0 or greater is required. Get it with \"Microsoft C++ Build Tools\": https://visualstudio.microsoft.com/visual-cpp-build-tools/\n",
      "    ----------------------------------------\n",
      "ERROR: Command errored out with exit status 1: 'C:\\Users\\fajar\\anaconda3\\python.exe' -u -c 'import io, os, sys, setuptools, tokenize; sys.argv[0] = '\"'\"'C:\\\\Users\\\\fajar\\\\AppData\\\\Local\\\\Temp\\\\pip-install-0vjzia9b\\\\fbprophet_18ca436f9e2a481faa0af3d6822080a6\\\\setup.py'\"'\"'; __file__='\"'\"'C:\\\\Users\\\\fajar\\\\AppData\\\\Local\\\\Temp\\\\pip-install-0vjzia9b\\\\fbprophet_18ca436f9e2a481faa0af3d6822080a6\\\\setup.py'\"'\"';f = getattr(tokenize, '\"'\"'open'\"'\"', open)(__file__) if os.path.exists(__file__) else io.StringIO('\"'\"'from setuptools import setup; setup()'\"'\"');code = f.read().replace('\"'\"'\\r\\n'\"'\"', '\"'\"'\\n'\"'\"');f.close();exec(compile(code, __file__, '\"'\"'exec'\"'\"'))' install --record 'C:\\Users\\fajar\\AppData\\Local\\Temp\\pip-record-53_39bpa\\install-record.txt' --single-version-externally-managed --compile --install-headers 'C:\\Users\\fajar\\anaconda3\\Include\\fbprophet' Check the logs for full command output.\n"
     ]
    },
    {
     "name": "stdout",
     "output_type": "stream",
     "text": [
      "  Downloading convertdate-2.3.2-py3-none-any.whl (47 kB)\n",
      "Collecting holidays>=0.10.2\n",
      "  Downloading holidays-0.11.3.1-py3-none-any.whl (155 kB)\n",
      "Collecting setuptools-git>=1.2\n",
      "  Downloading setuptools_git-1.2-py2.py3-none-any.whl (10 kB)\n",
      "Requirement already satisfied: python-dateutil>=2.8.0 in c:\\users\\fajar\\anaconda3\\lib\\site-packages (from fbprophet) (2.8.2)\n",
      "Requirement already satisfied: tqdm>=4.36.1 in c:\\users\\fajar\\anaconda3\\lib\\site-packages (from fbprophet) (4.62.3)\n",
      "Collecting pymeeus<=1,>=0.3.13\n",
      "  Downloading PyMeeus-0.5.11.tar.gz (5.4 MB)\n",
      "Requirement already satisfied: pytz>=2014.10 in c:\\users\\fajar\\anaconda3\\lib\\site-packages (from convertdate>=2.1.2->fbprophet) (2021.3)\n",
      "Collecting hijri-converter\n",
      "  Downloading hijri_converter-2.2.2-py3-none-any.whl (13 kB)\n",
      "Collecting korean-lunar-calendar\n",
      "  Downloading korean_lunar_calendar-0.2.1-py3-none-any.whl (8.0 kB)\n",
      "Collecting ephem>=3.7.5.3\n",
      "  Downloading ephem-4.1.3-cp39-cp39-win_amd64.whl (1.4 MB)\n",
      "Requirement already satisfied: kiwisolver>=1.0.1 in c:\\users\\fajar\\anaconda3\\lib\\site-packages (from matplotlib>=2.0.0->fbprophet) (1.3.1)\n",
      "Requirement already satisfied: pyparsing>=2.2.1 in c:\\users\\fajar\\anaconda3\\lib\\site-packages (from matplotlib>=2.0.0->fbprophet) (3.0.4)\n",
      "Requirement already satisfied: cycler>=0.10 in c:\\users\\fajar\\anaconda3\\lib\\site-packages (from matplotlib>=2.0.0->fbprophet) (0.10.0)\n",
      "Requirement already satisfied: pillow>=6.2.0 in c:\\users\\fajar\\anaconda3\\lib\\site-packages (from matplotlib>=2.0.0->fbprophet) (8.4.0)\n",
      "Requirement already satisfied: six in c:\\users\\fajar\\anaconda3\\lib\\site-packages (from cycler>=0.10->matplotlib>=2.0.0->fbprophet) (1.16.0)\n",
      "Requirement already satisfied: colorama in c:\\users\\fajar\\anaconda3\\lib\\site-packages (from tqdm>=4.36.1->fbprophet) (0.4.4)\n",
      "Building wheels for collected packages: fbprophet, pymeeus\n",
      "  Building wheel for fbprophet (setup.py): started\n",
      "  Building wheel for fbprophet (setup.py): finished with status 'error'\n",
      "  Running setup.py clean for fbprophet\n",
      "  Building wheel for pymeeus (setup.py): started\n",
      "  Building wheel for pymeeus (setup.py): finished with status 'done'\n",
      "  Created wheel for pymeeus: filename=PyMeeus-0.5.11-py3-none-any.whl size=730984 sha256=64a3af84ec78308d05465963f6d1ba7a6af21df6ee6232db2ce087a2fd912b0b\n",
      "  Stored in directory: c:\\users\\fajar\\appdata\\local\\pip\\cache\\wheels\\33\\3d\\82\\4579e9cca41ff991140b2e050bc6df3a38292f26e4fa06b15d\n",
      "Successfully built pymeeus\n",
      "Failed to build fbprophet\n",
      "Installing collected packages: pymeeus, korean-lunar-calendar, hijri-converter, ephem, convertdate, setuptools-git, LunarCalendar, holidays, cmdstanpy, fbprophet\n",
      "    Running setup.py install for fbprophet: started\n",
      "    Running setup.py install for fbprophet: finished with status 'error'\n"
     ]
    }
   ],
   "source": [
    "!pip install fbprophet"
   ]
  },
  {
   "cell_type": "code",
   "execution_count": null,
   "id": "1d844d6c",
   "metadata": {},
   "outputs": [],
   "source": []
  },
  {
   "cell_type": "code",
   "execution_count": null,
   "id": "63af04b5",
   "metadata": {},
   "outputs": [],
   "source": []
  },
  {
   "cell_type": "code",
   "execution_count": null,
   "id": "f208632e",
   "metadata": {},
   "outputs": [],
   "source": []
  },
  {
   "cell_type": "code",
   "execution_count": null,
   "id": "d432d729",
   "metadata": {},
   "outputs": [],
   "source": []
  },
  {
   "cell_type": "code",
   "execution_count": null,
   "id": "9778a936",
   "metadata": {},
   "outputs": [],
   "source": []
  },
  {
   "cell_type": "code",
   "execution_count": null,
   "id": "6f2fa4b7",
   "metadata": {},
   "outputs": [],
   "source": []
  },
  {
   "cell_type": "code",
   "execution_count": null,
   "id": "23684cb8",
   "metadata": {},
   "outputs": [],
   "source": []
  },
  {
   "cell_type": "code",
   "execution_count": null,
   "id": "f05d2d4d",
   "metadata": {},
   "outputs": [],
   "source": []
  },
  {
   "cell_type": "code",
   "execution_count": null,
   "id": "fd5e6689",
   "metadata": {},
   "outputs": [],
   "source": []
  },
  {
   "cell_type": "code",
   "execution_count": null,
   "id": "4bf09911",
   "metadata": {},
   "outputs": [],
   "source": []
  },
  {
   "cell_type": "code",
   "execution_count": null,
   "id": "033cb3b0",
   "metadata": {},
   "outputs": [],
   "source": []
  },
  {
   "cell_type": "code",
   "execution_count": null,
   "id": "3785932a",
   "metadata": {},
   "outputs": [],
   "source": []
  },
  {
   "cell_type": "code",
   "execution_count": null,
   "id": "12bd867a",
   "metadata": {},
   "outputs": [],
   "source": []
  }
 ],
 "metadata": {
  "kernelspec": {
   "display_name": "Python 3 (ipykernel)",
   "language": "python",
   "name": "python3"
  },
  "language_info": {
   "codemirror_mode": {
    "name": "ipython",
    "version": 3
   },
   "file_extension": ".py",
   "mimetype": "text/x-python",
   "name": "python",
   "nbconvert_exporter": "python",
   "pygments_lexer": "ipython3",
   "version": "3.9.7"
  }
 },
 "nbformat": 4,
 "nbformat_minor": 5
}
